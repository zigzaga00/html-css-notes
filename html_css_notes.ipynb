{
 "cells": [
  {
   "cell_type": "markdown",
   "id": "17c921a3",
   "metadata": {},
   "source": [
    "# Creating Headings\n",
    "---\n",
    "We can create headings using h1 to h6 elements. We should only have one h1 element on a page as this specifies the main idea for the page.\n",
    "\n",
    "We use h2 as a sub-heading and then if we need a sub-heading under the h2 sub-heading we use h3 and so on.\n",
    "\n",
    "We do not use the heading numbers to get larger or smaller text as we can style headings using css. The number specifies the importance of the heading and they also give structure to a webpage.\n",
    "\n",
    "We should not be using an h3 element if we do not have h2 elements."
   ]
  },
  {
   "cell_type": "code",
   "execution_count": null,
   "id": "7afbf8f9",
   "metadata": {},
   "outputs": [],
   "source": [
    "<h1>Fish</h1>\n",
    "<h2>Diet</h2>\n",
    "<h3>Carnivores</h3>\n",
    "<h3>Omnivores</h3>\n",
    "<h3>Herbivores</h3>"
   ]
  },
  {
   "cell_type": "markdown",
   "id": "28d26e09",
   "metadata": {},
   "source": [
    "# Creating Paragraphs\n",
    "---\n",
    "We can use the p element to create paragraphs. Each paragraph needs to be inside its own p element."
   ]
  },
  {
   "cell_type": "raw",
   "id": "4496e69c",
   "metadata": {},
   "source": [
    "<p>\n",
    "    Fish are great.\n",
    "</p>\n",
    "<p>\n",
    "    Fish eat fish.\n",
    "</p>"
   ]
  },
  {
   "cell_type": "markdown",
   "id": "6a8f650e",
   "metadata": {},
   "source": [
    "# Document Structure\n",
    "---\n",
    "We need to start with a doctype declaration which is !DOCTYPE html\n",
    "\n",
    "We then use html tags.\n",
    "\n",
    "Inside the html tags we need a head and a body. We put meta data in the head - it should at the least include a title. The body contains the main content which is shown to the website visitors."
   ]
  },
  {
   "cell_type": "raw",
   "id": "57cfb2b1",
   "metadata": {},
   "source": [
    "<!DOCTYPE html>\n",
    "<html>\n",
    "<head>\n",
    "    <title>all about fish</title>\n",
    "</head>\n",
    "<body>\n",
    "    <h1>Fish</h1>\n",
    "</body>\n",
    "</html>"
   ]
  },
  {
   "cell_type": "markdown",
   "id": "e1807033",
   "metadata": {},
   "source": [
    "# Comments\n",
    "---\n",
    "Comments let the browser know that the text inside them should be ignored - we can therefore put human languages such as English in the comment.\n",
    "\n",
    "We can use comments to leave notes for ourselves or other developers. Comments can help us understand the code. Comments can be used to comment out code."
   ]
  },
  {
   "cell_type": "raw",
   "id": "8bf39df1",
   "metadata": {},
   "source": [
    "<!-- this is a comment - it will be ignored by the browser -->"
   ]
  },
  {
   "cell_type": "markdown",
   "id": "cf93fad9",
   "metadata": {},
   "source": [
    "# forms\n",
    "\n",
    "## form controls\n",
    "\n",
    "Form controls go inside form elements. The input and button elements are examples of form controls. Form controls let users input data to the form.\n",
    "\n",
    "### input\n",
    "\n",
    "The input element has the type attribute which must be there. The type attribute specifies what type of data the input element expects - we can use values such as \"text\" and \"number\".\n",
    "\n",
    "The input element is inline.\n",
    "\n",
    "### button\n",
    "\n",
    "The button element has an open and close tag so we can put text to display on the button inbetween them. The type attribute can be values such as \"submit\" which will send the data. We do not have to have the type attribute with button elements.\n",
    "\n",
    "The button element is an inline element.\n",
    "\n",
    "## the form element\n",
    "\n",
    "The form element contains the form control elements. Its main purpose is to group together the form controls and it also specifies to the browser where the data from the form controls should be sent once it is submitted. This is specified in the action attribute. There is also a method attribute which specifies the http verb to use such as get or post.\n",
    "\n",
    "## name and placeholder attributes\n",
    "\n",
    "### name\n",
    "\n",
    "The name attribute is used on input elements. It is used so when a backend script receives the submitted data it knows what to do with it. An example would be to give an input element the name of username and another input element in the same form the name of password. This means that the name attribute on an input element is very important and should always be used.\n",
    "\n",
    "### placeholder\n",
    "\n",
    "The placeholder attribute just places text in an input field to help users know what should go into it. The text will disappear as soon as a user starts to type into the field.\n",
    "\n",
    "## labelling form controls\n",
    "\n",
    "The label element is used to connect to an input field. We can put text into the label element which specifies what type of data needs to be inputted to the field it is associated with.\n",
    "\n",
    "We connect the label to the input using the id attribute of the input element and the for attribute of the label element.\n",
    "\n",
    "Label elements are used by screen readers to help people with visual impairments to understand what to input.\n",
    "\n",
    "Each label connects to one input field. We should use them always even if we are using placeholder text.\n",
    "\n",
    "## required\n",
    "\n",
    "The required attribute is added to make user that users fill out the field it is attached to before the form data is submitted.\n",
    "\n",
    "## textareas\n",
    "\n",
    "The textarea element lets us specify a number of rows and columns (cols) as attributes so that users can type more text into the field.\n",
    "\n",
    "The text which we place inside the textarea tags will be seen as starter text when rendered by a browser.\n",
    "\n",
    "## range\n",
    "\n",
    "This is a value we can give to a type attribute in an input element. We can specify a min and max value as different attributes on the same input element. This will let users slide along a range. We can use the step attribute to determine the increments and decrements.\n",
    "\n",
    "## checkbox\n",
    "\n",
    "This is a value which we can put into the type attribute on an input element. A checkbox can be ticked and will definitely need to be labelled so users know what it refers to. It will be given the value of on if it is ticked when it is submitted. There will be no value if it is not ticked.\n",
    "\n",
    "## select\n",
    "\n",
    "We use a select element and inside it we need to place option elements which include opening and closing tags. The name and id attributes go onto the select element. The option element must have a value attribute set. The value attribute contains the data which will actually be sent to a backend script if the option has been chosen.\n",
    "\n",
    "An example of this would be a select element which is named shirtsize with option elements which have values such as small medium and large. The data will be sent to the backend with shirtsize given the value of whatever was chosen such as shirtsize=m\n",
    "\n",
    "## radio button\n",
    "\n",
    "We can create a radio button by setting the value of the type attribute on an input element to be radio\n",
    "\n",
    "These buttons are usually grouped together but only one can be selected. In order for this to work, we need to connect the radio buttons together. This can be done by giving each input the same name attribute.\n",
    "\n",
    "We need to give a radio button a value attribute. The value given to this attribute will be sent to the server so it knows which radio button was selected.\n",
    "\n",
    "An example of radio buttons would be a contact method part of a form in which each one has the name of contact and then unique values such as phone and email. The server will then receive data such as contact=email"
   ]
  },
  {
   "cell_type": "code",
   "execution_count": null,
   "id": "f2f54136",
   "metadata": {},
   "outputs": [],
   "source": []
  },
  {
   "cell_type": "code",
   "execution_count": null,
   "id": "03016cf0",
   "metadata": {},
   "outputs": [],
   "source": []
  },
  {
   "cell_type": "code",
   "execution_count": null,
   "id": "0c537f16",
   "metadata": {},
   "outputs": [],
   "source": []
  },
  {
   "cell_type": "code",
   "execution_count": null,
   "id": "e25577cd",
   "metadata": {},
   "outputs": [],
   "source": []
  },
  {
   "cell_type": "markdown",
   "id": "9cff773a",
   "metadata": {},
   "source": [
    "# Anatomy of CSS\n",
    "---\n",
    "We first of all select something and then specify its properties using property: value pairs which are terminated with ; and are wrapped inside {}"
   ]
  },
  {
   "cell_type": "raw",
   "id": "b599ee70",
   "metadata": {},
   "source": [
    "p {\n",
    "    color: coral;\n",
    "}"
   ]
  },
  {
   "cell_type": "markdown",
   "id": "a4d03e8a",
   "metadata": {},
   "source": [
    "We essentialy specify what we are going to style and then how we want to style it.\n",
    "\n",
    "Inside the {} we have\n",
    "\n",
    "property: value;"
   ]
  },
  {
   "cell_type": "markdown",
   "id": "ca4fa285",
   "metadata": {},
   "source": [
    "# The Element Selector\n",
    "---\n",
    "The element selector selects all the elements of the specified type and styles them as we specify. The tag is used so if we wanted to select all of the anchor elements we would use the a tag."
   ]
  },
  {
   "cell_type": "raw",
   "id": "45a815e8",
   "metadata": {},
   "source": [
    "a {\n",
    "    color: blue;\n",
    "}"
   ]
  },
  {
   "cell_type": "markdown",
   "id": "86b1b52b",
   "metadata": {},
   "source": [
    "# CSS Colors\n",
    "---\n",
    "The color property is for text color whereas the background-color property is for the background color of the selected element.\n",
    "\n",
    "If the element is block level then the background color will stretch across the entire screen but this will not occur if the element is inline."
   ]
  },
  {
   "cell_type": "markdown",
   "id": "12a77b4f",
   "metadata": {},
   "source": [
    "# Named Colors\n",
    "---\n",
    "We can use these colors for ease. Code editors also allow us to use a color selcetion pallette."
   ]
  },
  {
   "cell_type": "markdown",
   "id": "a3bdc7f1",
   "metadata": {},
   "source": [
    "# RGB Colors\n",
    "---\n",
    "We can use Red, Green and Blue color channel values to specify how much of each color to use. The range is from 0 (none) to 255 (full). An example of blue is given below."
   ]
  },
  {
   "cell_type": "raw",
   "id": "1035ae27",
   "metadata": {},
   "source": [
    "p {\n",
    "    color: rgb(0,0,255);\n",
    "}"
   ]
  },
  {
   "cell_type": "markdown",
   "id": "b26e7165",
   "metadata": {},
   "source": [
    "# Hexadecimal Colors\n",
    "---\n",
    "We specify these using hexadecimal notation. These will go from 00 for none to FF for full (still 0 to 255). The below example gives blue. Note that # is used to specify we are going to use hexadecimal notation."
   ]
  },
  {
   "cell_type": "raw",
   "id": "86afe19d",
   "metadata": {},
   "source": [
    "p {\n",
    "    color: #0000ff;\n",
    "}"
   ]
  },
  {
   "cell_type": "markdown",
   "id": "47d447ec",
   "metadata": {},
   "source": [
    "If the color channels have the same values, we can use a shorthand notation. This is common for black and white which are shown below."
   ]
  },
  {
   "cell_type": "raw",
   "id": "86a1b2b0",
   "metadata": {},
   "source": [
    "p {\n",
    "    color: #000\n",
    "}\n",
    "\n",
    "a {\n",
    "    color: #fff\n",
    "}"
   ]
  },
  {
   "cell_type": "markdown",
   "id": "5238325b",
   "metadata": {},
   "source": [
    "# RGBA Colors (Opacity)\n",
    "---\n",
    "We can add an Alpha channel at the end to specify opacity from 0 (transparent) to 1 (fully opaque)."
   ]
  },
  {
   "cell_type": "raw",
   "id": "f5d414c3",
   "metadata": {},
   "source": [
    "h1 {\n",
    "    background-color: rgba(188, 23, 83, 0.5);\n",
    "}"
   ]
  },
  {
   "cell_type": "markdown",
   "id": "ffc5f66f",
   "metadata": {},
   "source": [
    "Note that this is different to the opacity property as it only styles the specified property of the selected element. The opacity property affects all the properties which are specified for a selected element."
   ]
  },
  {
   "cell_type": "raw",
   "id": "983af766",
   "metadata": {},
   "source": [
    "h1 {\n",
    "    background-color: rgb(188, 23, 83);\n",
    "    color: purple;\n",
    "    opacity: 0.5;\n",
    "}"
   ]
  },
  {
   "cell_type": "markdown",
   "id": "35602366",
   "metadata": {},
   "source": [
    "# CSS Inheritance\n",
    "---\n",
    "Some properties in CSS, such as color, are inherited by elements from their parents (elements which they are embedded in).\n",
    "\n",
    "Other properties, such as border, are not inherited by default.\n",
    "\n",
    "We can force inheritence if we really want to."
   ]
  },
  {
   "cell_type": "raw",
   "id": "f662df7b",
   "metadata": {},
   "source": [
    "p {\n",
    "    border: inherit;\n",
    "}"
   ]
  },
  {
   "cell_type": "markdown",
   "id": "887fca6f",
   "metadata": {},
   "source": [
    "In the above example, all paragraph elements will inherit the border of their parent element if they have one."
   ]
  },
  {
   "cell_type": "markdown",
   "id": "d9dacaf5",
   "metadata": {},
   "source": [
    "# Styling Text\n",
    "---\n",
    "There are lots of properties to do with styling text as text is used so much on websites."
   ]
  },
  {
   "cell_type": "markdown",
   "id": "dce03199",
   "metadata": {},
   "source": [
    "# Changing Fonts with Font-Family\n",
    "---\n",
    "Fonts are installed on machines so just because we specify one to use this does not mean that it will be used. One way to get around this problem is to use a font stack in which we specify a list of fonts we would like to have used and then a default font family such as serif or sans-serif just incase the machine does not have any of our specified fonts installed.\n",
    "\n",
    "The font-family property is inherited."
   ]
  },
  {
   "cell_type": "raw",
   "id": "70167fa5",
   "metadata": {},
   "source": [
    "h1 {\n",
    "    font-family: \"Segoe UI\", Futura, sans-serif;\n",
    "}"
   ]
  },
  {
   "cell_type": "markdown",
   "id": "72d9f560",
   "metadata": {},
   "source": [
    "# Font-Size Font-Weight and Font-Style\n",
    "---\n",
    "There are lots of units to measure the size of fonts. The most simple is pixels which is written as px\n",
    "\n",
    "font-size is inherited."
   ]
  },
  {
   "cell_type": "raw",
   "id": "0f31c973",
   "metadata": {},
   "source": [
    "p {\n",
    "    font-size: 32px;\n",
    "}"
   ]
  },
  {
   "cell_type": "markdown",
   "id": "3f320f32",
   "metadata": {},
   "source": [
    "font-weight controls the degree of boldness. The default is called normal which equates to 400.\n",
    "\n",
    "If text is bold, it equates to 700.\n",
    "\n",
    "We can use numbers as well as the words. Some fonts don't have specific numbers so it is useful to check what they do support."
   ]
  },
  {
   "cell_type": "raw",
   "id": "f44337aa",
   "metadata": {},
   "source": [
    "p {\n",
    "    font-weight: bold;\n",
    "}\n",
    "\n",
    "p {\n",
    "    font-weight: 700;\n",
    "}"
   ]
  },
  {
   "cell_type": "markdown",
   "id": "508157a4",
   "metadata": {},
   "source": [
    "font-style controls normal, italic and oblique values."
   ]
  },
  {
   "cell_type": "raw",
   "id": "743c11d3",
   "metadata": {},
   "source": [
    "p {\n",
    "    font-style: italic;\n",
    "}"
   ]
  },
  {
   "cell_type": "markdown",
   "id": "d26126f8",
   "metadata": {},
   "source": [
    "# Text Alignment\n",
    "---\n",
    "We can use text-align to align the text in its element. This property is inherited. We can left, right and center align as well as justify."
   ]
  },
  {
   "cell_type": "raw",
   "id": "469ee67f",
   "metadata": {},
   "source": [
    "h1 {\n",
    "    text-align: center;\n",
    "}"
   ]
  },
  {
   "cell_type": "markdown",
   "id": "bde9ffd6",
   "metadata": {},
   "source": [
    "# Spacing\n",
    "---\n",
    "We can use letter-spacing, word-spacing and line-height. We can use different units such as px\n",
    "\n",
    "We can use a multiplier which multiplies by the height of the font when we are using line-height."
   ]
  },
  {
   "cell_type": "raw",
   "id": "f7025128",
   "metadata": {},
   "source": [
    "h1 {\n",
    "    letter-spacing: 20px;\n",
    "}\n",
    "\n",
    "p {\n",
    "    word-spacing: 10px;\n",
    "    line-height: 2;\n",
    "}"
   ]
  },
  {
   "cell_type": "markdown",
   "id": "2d287313",
   "metadata": {},
   "source": [
    "# Custom Fonts\n",
    "---\n",
    "We can use google fonts to find and import custom fonts. These fonts can be downloaded by including links to them in the html head or the css style sheet. We will find suggested font stacks to use with them, too."
   ]
  },
  {
   "cell_type": "raw",
   "id": "6fd67684",
   "metadata": {},
   "source": [
    "h2 {\n",
    "    font-family: \"Indie Flower\", cursive;\n",
    "}"
   ]
  },
  {
   "cell_type": "markdown",
   "id": "c368eeb9",
   "metadata": {},
   "source": [
    "# Text Shadow\n",
    "---\n",
    "\n",
    "We can add shadow effects with the text-shadow property. There are several values it can take and they need to be specified in one of the correct ways which are documented on the mozilla development web-page.\n",
    "\n",
    "We can have more than one text shadow. If we do this, we seperate the values for each with , before we end with ;\n",
    "\n",
    "The example below specifies values for the x offset, y offset, blur radius and colour."
   ]
  },
  {
   "cell_type": "raw",
   "id": "f2e8d37e",
   "metadata": {},
   "source": [
    "h1 {\n",
    "    text-shadow: 2px 2px 3px blue;\n",
    "}\n",
    "\n",
    "h2 {\n",
    "    text-shadow: 2px 2px 3px blue, 4px 4px 3px orange;\n",
    "}"
   ]
  },
  {
   "cell_type": "markdown",
   "id": "a80c8821",
   "metadata": {},
   "source": [
    "# Text Decoration\n",
    "---\n",
    "The text-decoration property is a shorthand way to cover line, color, style and thickness. We can specify individual properties or we can just use text-decoration.\n",
    "\n",
    "We can also use text-transform which lets us play with the capitalisation of the words or their case.\n",
    "\n",
    "We can specify no text decoration with none."
   ]
  },
  {
   "cell_type": "raw",
   "id": "7ca52d35",
   "metadata": {},
   "source": [
    "p {\n",
    "    text-transform: uppercase;\n",
    "}\n",
    "\n",
    "h1 {\n",
    "    text-decoration: underline red wavy 5px;\n",
    "}\n",
    "\n",
    "a {\n",
    "    text-decoration: none;\n",
    "}"
   ]
  },
  {
   "cell_type": "markdown",
   "id": "db1c550b",
   "metadata": {},
   "source": [
    "# Font Shorthand\n",
    "---\n",
    "We can use the font shorthand property to combine font styles. It can get complicated so it makes sense to just use it to set the weight size and family stack."
   ]
  },
  {
   "cell_type": "raw",
   "id": "ed2ac462",
   "metadata": {},
   "source": [
    "p {\n",
    "    font: 100 24px Montserrat, sans-serif;\n",
    "}"
   ]
  },
  {
   "cell_type": "markdown",
   "id": "efd04d82",
   "metadata": {},
   "source": [
    "# Id and Class Selectors\n",
    "---\n",
    "We can give elements a unique id. There should only be one of each id in a document as it is meant to be unique. We can then style that one specific element using the id selector in CSS."
   ]
  },
  {
   "cell_type": "raw",
   "id": "847bb54c",
   "metadata": {},
   "source": [
    "<span id=special>This is some special text!</span>\n",
    "\n",
    "#special {\n",
    "    background-color: pink;\n",
    "}"
   ]
  },
  {
   "cell_type": "markdown",
   "id": "ebeff093",
   "metadata": {},
   "source": [
    "If we have lots of elements which we want to style in the same way but we do not want all elements of the same type to be styled in that way, we can use the class selector."
   ]
  },
  {
   "cell_type": "raw",
   "id": "83f02a65",
   "metadata": {},
   "source": [
    "<p class='message'>\n",
    "    hello!\n",
    "</p>\n",
    "<p>\n",
    "    bobby boy!\n",
    "</p>\n",
    "<p class='message'>\n",
    "    goodbye!\n",
    "</p>\n",
    "\n",
    ".message {\n",
    "    font-size: 32px;\n",
    "}"
   ]
  },
  {
   "cell_type": "markdown",
   "id": "bf67b157",
   "metadata": {},
   "source": [
    "# Styling Lists\n",
    "---\n",
    "We can specify the marker types using the list-style-type property. We can specify default markers as values such as disc and circle, or we can specify emojis using their number or custom made markers.\n",
    "\n",
    "A useful value to use is none as we can use lists to create navigation bars.\n",
    "\n",
    "If we are styling an ordered list, we can specify list-value-type values such as lower-roman or decimal"
   ]
  },
  {
   "cell_type": "raw",
   "id": "7995cec5",
   "metadata": {},
   "source": [
    "<ul id='animals'>\n",
    "    <li>cat</li>\n",
    "    <li>dog</li>\n",
    "    <li>fish</li>\n",
    "</ul>\n",
    "\n",
    "<ol id='favourite-colours'>\n",
    "    <li>red</li>\n",
    "    <li>orange</li>\n",
    "    <li>yellow</li>\n",
    "</ol>\n",
    "\n",
    "#animals {\n",
    "    list-value-type: disc;\n",
    "}\n",
    "\n",
    "#favourite-colours {\n",
    "    list-value-type: lower-roman;\n",
    "}"
   ]
  },
  {
   "cell_type": "markdown",
   "id": "3ba131e4",
   "metadata": {},
   "source": [
    "# Styling Links\n",
    "---\n",
    "We can use the :visited pseudoclass with the anchor element to syle visited links differently to ones which have not been visited.\n",
    "\n",
    "We can give links specific effects when the cursor hovers over them using the :hover pseudoclass.\n",
    "\n",
    "It is possible to change the default pointer which the cursor changes to when a link is hovered over. This can be useful to let the user know something about what they can do with the link."
   ]
  },
  {
   "cell_type": "raw",
   "id": "e91a6a99",
   "metadata": {},
   "source": [
    "a {\n",
    "    color: blue;\n",
    "    text-decoration: none;\n",
    "}\n",
    "\n",
    "a:visited {\n",
    "    color: orange;\n",
    "}\n",
    "\n",
    "a:hover {\n",
    "    text-decoration: underline;\n",
    "    cursor: crosshair;\n",
    "}"
   ]
  },
  {
   "cell_type": "markdown",
   "id": "77214d7f",
   "metadata": {},
   "source": [
    "# The Universal Selector\n",
    "---\n",
    "The * is the universal selector in that it selects all the elements in a document. This can be used to reset default styles so each user's browser renders the content in the same way."
   ]
  },
  {
   "cell_type": "raw",
   "id": "419071c8",
   "metadata": {},
   "source": [
    "* {\n",
    "    margin: none;\n",
    "    padding: none;\n",
    "}"
   ]
  },
  {
   "cell_type": "markdown",
   "id": "d92ec0df",
   "metadata": {},
   "source": [
    "# Attribute Selectors\n",
    "---\n",
    "We can select elements based on the values of their attributes using the attribute selector.\n",
    "\n",
    "We can use regular expressions to match patterns. This is common with anchor elements so we can match values which have a pattern within them somewhere, at the start or at the end."
   ]
  },
  {
   "cell_type": "raw",
   "id": "67a4bb4a",
   "metadata": {},
   "source": [
    "<input type=\"text\">\n",
    "<input type=\"number\">\n",
    "<input type=\"checkbox\">\n",
    "\n",
    "input[type=\"number\"] {\n",
    "    background-color: gold;\n",
    "}"
   ]
  },
  {
   "cell_type": "raw",
   "id": "1b022cc4",
   "metadata": {},
   "source": [
    "<a href=\"https://cats.wiki.com\">Cats</a>\n",
    "<a href=\"https://dogs.wiki.com\">Dogs</a>\n",
    "<a href=\"https://rose.com\">Roses</a>\n",
    "<a href=\"https://tulip.com\">Tulips</a>\n",
    "<a href=\"#animals\">Animals</a>\n",
    "<a href=\"#plants\">Plants</a>\n",
    "\n",
    "a[href*=\"wiki\"] {\n",
    "    color: red;\n",
    "}\n",
    "\n",
    "a[href^=\"#\"] {\n",
    "    color: orange;\n",
    "}\n",
    "\n",
    "a[href$=\".com\"] {\n",
    "    color: blue;\n",
    "}"
   ]
  },
  {
   "cell_type": "markdown",
   "id": "e3ed3b6f",
   "metadata": {},
   "source": [
    "# Grouping Selectors\n",
    "---\n",
    "We can group selectors together using ,\n",
    "\n",
    "We can group different types of selectors such as different heading elements or different classes.\n",
    "\n",
    "We can combine different selectors so we might group elements with classes with ids."
   ]
  },
  {
   "cell_type": "raw",
   "id": "10e7e006",
   "metadata": {},
   "source": [
    "h1,\n",
    "h2,\n",
    "h3 {\n",
    "    background-color: blue;\n",
    "    color: orange\n",
    "}\n",
    "\n",
    ".tags,\n",
    ".names,\n",
    ".comments {\n",
    "    background-color: yellow;\n",
    "    color: purple\n",
    "}\n",
    "\n",
    "h4,\n",
    "h5,\n",
    "h6,\n",
    ".addresses,\n",
    ".bars,\n",
    "#special {\n",
    "    background-color: red;\n",
    "    color: green\n",
    "}"
   ]
  },
  {
   "cell_type": "markdown",
   "id": "6b26c6b3",
   "metadata": {},
   "source": [
    "# The Descendant Combinator\n",
    "---\n",
    "We can use a space to specify that we want to select descendants (children, grand-children and so on). These can be of elements, classes, ids etc\n",
    "\n",
    "We might, for example, want to select spans which are descendents of a specific element which has an id set on it."
   ]
  },
  {
   "cell_type": "raw",
   "id": "f720450d",
   "metadata": {},
   "source": [
    "<p id=\"diet\">\n",
    "    Cats eat <span>meat</span> and <span>fish</span> mostly.\n",
    "</p>\n",
    "\n",
    "#diet span {\n",
    "    font-weight: bold\n",
    "}"
   ]
  },
  {
   "cell_type": "markdown",
   "id": "efb1f5b0",
   "metadata": {},
   "source": [
    "# Child Combinator\n",
    "---\n",
    "This is like the descendant combinator but it only selects direct children not grand-children etc."
   ]
  },
  {
   "cell_type": "raw",
   "id": "12bfaa26",
   "metadata": {},
   "source": [
    "<ul>\n",
    "    <li>Name: <span>Billy Bob</span></li>\n",
    "    <li>Password: <span>password123</span></li>\n",
    "</ul>\n",
    "\n",
    "li > span {\n",
    "    font-weight: bold\n",
    "}"
   ]
  },
  {
   "cell_type": "markdown",
   "id": "78736593",
   "metadata": {},
   "source": [
    "# The Compound Selector\n",
    "---\n",
    "We can select specific elements belonging to a specific class using . notation - we could do this with ids but it makes no sense as ids are already unique."
   ]
  },
  {
   "cell_type": "raw",
   "id": "917ccc56",
   "metadata": {},
   "source": [
    "<h1 class=\"special\">Cats</h1>\n",
    "<h2 class=\"special\">Diet</h2>\n",
    "<h3 class=\"special\">Treats</h3>\n",
    "<h3 class=\"special\">Essentials</h3>\n",
    "\n",
    "h3.special {\n",
    "    color: gold\n",
    "}"
   ]
  }
 ],
 "metadata": {
  "kernelspec": {
   "display_name": "Python 3 (ipykernel)",
   "language": "python",
   "name": "python3"
  },
  "language_info": {
   "codemirror_mode": {
    "name": "ipython",
    "version": 3
   },
   "file_extension": ".py",
   "mimetype": "text/x-python",
   "name": "python",
   "nbconvert_exporter": "python",
   "pygments_lexer": "ipython3",
   "version": "3.10.12"
  }
 },
 "nbformat": 4,
 "nbformat_minor": 5
}
